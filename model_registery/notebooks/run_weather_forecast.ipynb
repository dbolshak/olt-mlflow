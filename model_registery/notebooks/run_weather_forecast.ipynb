{
 "cells": [
  {
   "cell_type": "markdown",
   "metadata": {},
   "source": [
    "# Machine learning application: Forecasting wind power. Using alternative energy for social & enviromental Good\n",
    "\n",
    "<table>\n",
    "  <tr><td>\n",
    "    <img src=\"https://github.com/dmatrix/mlflow-workshop-part-3/raw/master/images/wind_farm.jpg\"\n",
    "         alt=\"Keras NN Model as Logistic regression\"  width=\"800\">\n",
    "  </td></tr>\n",
    "</table>\n",
    "\n",
    "In this notebook, we will use the MLflow Model Registry to build a machine learning application that forecasts the daily power output of a [wind farm](https://en.wikipedia.org/wiki/Wind_farm). \n",
    "\n",
    "Wind farm power output depends on weather conditions: generally, more energy is produced at higher wind speeds. Accordingly, the machine learning models used in the notebook predict power output based on weather forecasts with three features: `wind direction`, `wind speed`, and `air temperature`.\n",
    "\n",
    "* This notebook uses altered data from the [National WIND Toolkit dataset](https://www.nrel.gov/grid/wind-toolkit.html) provided by NREL, which is publicly available and cited as follows:*\n",
    "\n",
    "* Draxl, C., B.M. Hodge, A. Clifton, and J. McCaa. 2015. Overview and Meteorological Validation of the Wind Integration National Dataset Toolkit (Technical Report, NREL/TP-5000-61740). Golden, CO: National Renewable Energy Laboratory.*\n",
    "\n",
    "* Draxl, C., B.M. Hodge, A. Clifton, and J. McCaa. 2015. \"The Wind Integration National Dataset (WIND) Toolkit.\" Applied Energy 151: 355366.*\n",
    "\n",
    "* Lieberman-Cribbin, W., C. Draxl, and A. Clifton. 2014. Guide to Using the WIND Toolkit Validation Code (Technical Report, NREL/TP-5000-62595). Golden, CO: National Renewable Energy Laboratory.*\n",
    "\n",
    "* King, J., A. Clifton, and B.M. Hodge. 2014. Validation of Power Output for the WIND Toolkit (Technical Report, NREL/TP-5D00-61714). Golden, CO: National Renewable Energy Laboratory.*\n",
    "\n",
    "Googl's Deep publised a [AI for Social Good: 7 Inspiring Examples](https://www.springboard.com/blog/ai-for-good/) blog. One of example was\n",
    "how Wind Farms can predict expected power ouput based on wind conditions and temperature, hence mitigating the burden from consuming\n",
    "energy from fossil fuels. \n",
    "\n",
    "\n",
    "<table>\n",
    "  <tr><td>\n",
    "    <img src=\"https://github.com/dmatrix/ds4g-workshop/raw/master/notebooks/images/deepmind_system-windpower.gif\"\n",
    "         alt=\"Deep Mind ML Wind Power\"  width=\"400\">\n",
    "    <img src=\"https://github.com/dmatrix/ds4g-workshop/raw/master/notebooks/images/machine_learning-value_wind_energy.max-1000x1000.png\"\n",
    "         alt=\"Deep Mind ML Wind Power\"  width=\"400\">\n",
    "  </td></tr>\n",
    "</table>\n"
   ]
  },
  {
   "cell_type": "code",
   "execution_count": 1,
   "metadata": {},
   "outputs": [],
   "source": [
    "import warnings\n",
    "warnings.filterwarnings(\"ignore\")"
   ]
  },
  {
   "cell_type": "code",
   "execution_count": 2,
   "metadata": {},
   "outputs": [
    {
     "data": {
      "text/plain": [
       "'1.12.1'"
      ]
     },
     "execution_count": 2,
     "metadata": {},
     "output_type": "execute_result"
    }
   ],
   "source": [
    "import mlflow\n",
    "mlflow.__version__"
   ]
  },
  {
   "cell_type": "markdown",
   "metadata": {},
   "source": [
    "## Run some class and utility notebooks \n",
    "\n",
    "This allows us to use some Python model classes and utility functions"
   ]
  },
  {
   "cell_type": "code",
   "execution_count": 3,
   "metadata": {},
   "outputs": [
    {
     "name": "stderr",
     "output_type": "stream",
     "text": [
      "/usr/local/lib/python3.9/site-packages/ipykernel/ipkernel.py:283: DeprecationWarning: `should_run_async` will not call `transform_cell` automatically in the future. Please pass the result to `transformed_cell` argument and any exception that happen during thetransform in `preprocessing_exc_tuple` in IPython 7.17 and above.\n",
      "  and should_run_async(code)\n"
     ]
    }
   ],
   "source": [
    "%run ./rfr_class.ipynb\n",
    "%run ./utils_class.ipynb"
   ]
  },
  {
   "cell_type": "markdown",
   "metadata": {},
   "source": [
    "## Load our training data"
   ]
  },
  {
   "cell_type": "code",
   "execution_count": 4,
   "metadata": {},
   "outputs": [
    {
     "data": {
      "text/html": [
       "<div>\n",
       "<style scoped>\n",
       "    .dataframe tbody tr th:only-of-type {\n",
       "        vertical-align: middle;\n",
       "    }\n",
       "\n",
       "    .dataframe tbody tr th {\n",
       "        vertical-align: top;\n",
       "    }\n",
       "\n",
       "    .dataframe thead th {\n",
       "        text-align: right;\n",
       "    }\n",
       "</style>\n",
       "<table border=\"1\" class=\"dataframe\">\n",
       "  <thead>\n",
       "    <tr style=\"text-align: right;\">\n",
       "      <th></th>\n",
       "      <th>temperature_00</th>\n",
       "      <th>wind_direction_00</th>\n",
       "      <th>wind_speed_00</th>\n",
       "      <th>temperature_08</th>\n",
       "      <th>wind_direction_08</th>\n",
       "      <th>wind_speed_08</th>\n",
       "      <th>temperature_16</th>\n",
       "      <th>wind_direction_16</th>\n",
       "      <th>wind_speed_16</th>\n",
       "      <th>power</th>\n",
       "    </tr>\n",
       "  </thead>\n",
       "  <tbody>\n",
       "    <tr>\n",
       "      <th>2014-01-01</th>\n",
       "      <td>4.702022</td>\n",
       "      <td>106.742590</td>\n",
       "      <td>4.743292</td>\n",
       "      <td>7.189482</td>\n",
       "      <td>100.41638</td>\n",
       "      <td>6.593832</td>\n",
       "      <td>8.172301</td>\n",
       "      <td>99.28800</td>\n",
       "      <td>5.967206</td>\n",
       "      <td>1959.3535</td>\n",
       "    </tr>\n",
       "    <tr>\n",
       "      <th>2014-01-02</th>\n",
       "      <td>7.695733</td>\n",
       "      <td>98.036705</td>\n",
       "      <td>6.142715</td>\n",
       "      <td>9.977118</td>\n",
       "      <td>94.03181</td>\n",
       "      <td>4.383676</td>\n",
       "      <td>9.690135</td>\n",
       "      <td>204.25444</td>\n",
       "      <td>1.696528</td>\n",
       "      <td>1266.6239</td>\n",
       "    </tr>\n",
       "    <tr>\n",
       "      <th>2014-01-03</th>\n",
       "      <td>9.608235</td>\n",
       "      <td>274.061200</td>\n",
       "      <td>10.514304</td>\n",
       "      <td>10.840864</td>\n",
       "      <td>242.87563</td>\n",
       "      <td>16.869741</td>\n",
       "      <td>8.991079</td>\n",
       "      <td>250.26830</td>\n",
       "      <td>12.038399</td>\n",
       "      <td>7545.6797</td>\n",
       "    </tr>\n",
       "    <tr>\n",
       "      <th>2014-01-04</th>\n",
       "      <td>6.955563</td>\n",
       "      <td>257.910220</td>\n",
       "      <td>7.189170</td>\n",
       "      <td>5.317223</td>\n",
       "      <td>254.26170</td>\n",
       "      <td>9.069233</td>\n",
       "      <td>3.021174</td>\n",
       "      <td>284.06537</td>\n",
       "      <td>4.590843</td>\n",
       "      <td>3791.0408</td>\n",
       "    </tr>\n",
       "    <tr>\n",
       "      <th>2014-01-05</th>\n",
       "      <td>0.830547</td>\n",
       "      <td>265.394400</td>\n",
       "      <td>4.263086</td>\n",
       "      <td>2.480239</td>\n",
       "      <td>104.79496</td>\n",
       "      <td>3.042063</td>\n",
       "      <td>4.227131</td>\n",
       "      <td>263.41690</td>\n",
       "      <td>3.899182</td>\n",
       "      <td>880.6115</td>\n",
       "    </tr>\n",
       "  </tbody>\n",
       "</table>\n",
       "</div>"
      ],
      "text/plain": [
       "            temperature_00  wind_direction_00  wind_speed_00  temperature_08  \\\n",
       "2014-01-01        4.702022         106.742590       4.743292        7.189482   \n",
       "2014-01-02        7.695733          98.036705       6.142715        9.977118   \n",
       "2014-01-03        9.608235         274.061200      10.514304       10.840864   \n",
       "2014-01-04        6.955563         257.910220       7.189170        5.317223   \n",
       "2014-01-05        0.830547         265.394400       4.263086        2.480239   \n",
       "\n",
       "            wind_direction_08  wind_speed_08  temperature_16  \\\n",
       "2014-01-01          100.41638       6.593832        8.172301   \n",
       "2014-01-02           94.03181       4.383676        9.690135   \n",
       "2014-01-03          242.87563      16.869741        8.991079   \n",
       "2014-01-04          254.26170       9.069233        3.021174   \n",
       "2014-01-05          104.79496       3.042063        4.227131   \n",
       "\n",
       "            wind_direction_16  wind_speed_16      power  \n",
       "2014-01-01           99.28800       5.967206  1959.3535  \n",
       "2014-01-02          204.25444       1.696528  1266.6239  \n",
       "2014-01-03          250.26830      12.038399  7545.6797  \n",
       "2014-01-04          284.06537       4.590843  3791.0408  \n",
       "2014-01-05          263.41690       3.899182   880.6115  "
      ]
     },
     "execution_count": 4,
     "metadata": {},
     "output_type": "execute_result"
    }
   ],
   "source": [
    "# Load and print dataset\n",
    "csv_path = \"./data/windfarm_data.csv\"\n",
    "\n",
    "# Use column 0 (date) as the index\n",
    "wind_farm_data = Utils.load_data(csv_path, index_col=0)\n",
    "wind_farm_data.head(5)"
   ]
  },
  {
   "cell_type": "markdown",
   "metadata": {},
   "source": [
    "## Get Training and Validation data"
   ]
  },
  {
   "cell_type": "code",
   "execution_count": 5,
   "metadata": {},
   "outputs": [],
   "source": [
    "X_train, y_train = Utils.get_training_data(wind_farm_data)\n",
    "val_x, val_y = Utils.get_validation_data(wind_farm_data)"
   ]
  },
  {
   "cell_type": "markdown",
   "metadata": {},
   "source": [
    "## Initialize a set of hyperparameters for the training and try three runs"
   ]
  },
  {
   "cell_type": "code",
   "execution_count": 6,
   "metadata": {},
   "outputs": [],
   "source": [
    "# Initialize our model hyperparameters\n",
    "params_list = [{\"n_estimators\": 100},\n",
    "               {\"n_estimators\": 200},\n",
    "               {\"n_estimators\": 300}]"
   ]
  },
  {
   "cell_type": "code",
   "execution_count": 7,
   "metadata": {},
   "outputs": [
    {
     "name": "stdout",
     "output_type": "stream",
     "text": [
      "Using paramerts={'n_estimators': 100}\n"
     ]
    },
    {
     "name": "stderr",
     "output_type": "stream",
     "text": [
      "2021/01/04 13:18:54 INFO mlflow.store.db.utils: Creating initial MLflow database tables...\n",
      "2021/01/04 13:18:54 INFO mlflow.store.db.utils: Updating database tables\n",
      "INFO  [alembic.runtime.migration] Context impl SQLiteImpl.\n",
      "INFO  [alembic.runtime.migration] Will assume non-transactional DDL.\n",
      "INFO  [alembic.runtime.migration] Running upgrade  -> 451aebb31d03, add metric step\n",
      "INFO  [alembic.runtime.migration] Running upgrade 451aebb31d03 -> 90e64c465722, migrate user column to tags\n",
      "INFO  [alembic.runtime.migration] Running upgrade 90e64c465722 -> 181f10493468, allow nulls for metric values\n",
      "INFO  [alembic.runtime.migration] Running upgrade 181f10493468 -> df50e92ffc5e, Add Experiment Tags Table\n",
      "INFO  [alembic.runtime.migration] Running upgrade df50e92ffc5e -> 7ac759974ad8, Update run tags with larger limit\n",
      "INFO  [alembic.runtime.migration] Running upgrade 7ac759974ad8 -> 89d4b8295536, create latest metrics table\n",
      "INFO  [89d4b8295536_create_latest_metrics_table_py] Migration complete!\n",
      "INFO  [alembic.runtime.migration] Running upgrade 89d4b8295536 -> 2b4d017a5e9b, add model registry tables to db\n",
      "INFO  [2b4d017a5e9b_add_model_registry_tables_to_db_py] Adding registered_models and model_versions tables to database.\n",
      "INFO  [2b4d017a5e9b_add_model_registry_tables_to_db_py] Migration complete!\n",
      "INFO  [alembic.runtime.migration] Running upgrade 2b4d017a5e9b -> cfd24bdc0731, Update run status constraint with killed\n",
      "INFO  [alembic.runtime.migration] Running upgrade cfd24bdc0731 -> 0a8213491aaa, drop_duplicate_killed_constraint\n",
      "WARNI [0a8213491aaa_drop_duplicate_killed_constraint_py] Failed to drop check constraint. Dropping check constraints may not be supported by your SQL database. Exception content: No support for ALTER of constraints in SQLite dialectPlease refer to the batch mode feature which allows for SQLite migrations using a copy-and-move strategy.\n",
      "INFO  [alembic.runtime.migration] Running upgrade 0a8213491aaa -> 728d730b5ebd, add registered model tags table\n",
      "INFO  [alembic.runtime.migration] Running upgrade 728d730b5ebd -> 27a6a02d2cf1, add model version tags table\n",
      "INFO  [alembic.runtime.migration] Running upgrade 27a6a02d2cf1 -> 84291f40a231, add run_link to model_version\n",
      "INFO  [alembic.runtime.migration] Context impl SQLiteImpl.\n",
      "INFO  [alembic.runtime.migration] Will assume non-transactional DDL.\n",
      "INFO  [alembic.runtime.migration] Context impl SQLiteImpl.\n",
      "INFO  [alembic.runtime.migration] Will assume non-transactional DDL.\n",
      "INFO  [alembic.runtime.migration] Context impl SQLiteImpl.\n",
      "INFO  [alembic.runtime.migration] Will assume non-transactional DDL.\n",
      "INFO  [alembic.runtime.migration] Context impl SQLiteImpl.\n",
      "INFO  [alembic.runtime.migration] Will assume non-transactional DDL.\n",
      "INFO  [alembic.runtime.migration] Context impl SQLiteImpl.\n",
      "INFO  [alembic.runtime.migration] Will assume non-transactional DDL.\n",
      "INFO  [alembic.runtime.migration] Context impl SQLiteImpl.\n",
      "INFO  [alembic.runtime.migration] Will assume non-transactional DDL.\n",
      "INFO  [alembic.runtime.migration] Context impl SQLiteImpl.\n",
      "INFO  [alembic.runtime.migration] Will assume non-transactional DDL.\n",
      "INFO  [alembic.runtime.migration] Context impl SQLiteImpl.\n",
      "INFO  [alembic.runtime.migration] Will assume non-transactional DDL.\n",
      "Successfully registered model 'PowerForecastingModel'.\n",
      "INFO  [alembic.runtime.migration] Context impl SQLiteImpl.\n",
      "INFO  [alembic.runtime.migration] Will assume non-transactional DDL.\n",
      "2021/01/04 13:18:56 INFO mlflow.tracking._model_registry.client: Waiting up to 300 seconds for model version to finish creation.                     Model name: PowerForecastingModel, version 1\n",
      "Created version '1' of model 'PowerForecastingModel'.\n",
      "INFO  [alembic.runtime.migration] Context impl SQLiteImpl.\n",
      "INFO  [alembic.runtime.migration] Will assume non-transactional DDL.\n",
      "INFO  [alembic.runtime.migration] Context impl SQLiteImpl.\n",
      "INFO  [alembic.runtime.migration] Will assume non-transactional DDL.\n",
      "INFO  [alembic.runtime.migration] Context impl SQLiteImpl.\n",
      "INFO  [alembic.runtime.migration] Will assume non-transactional DDL.\n"
     ]
    },
    {
     "name": "stdout",
     "output_type": "stream",
     "text": [
      "MLflow run_id=d374c768d8d74ff6bd0a9576457d245d completed with MSE=44308.35194755003 and RMSE=210.4954915135952\n",
      "Using paramerts={'n_estimators': 200}\n"
     ]
    },
    {
     "name": "stderr",
     "output_type": "stream",
     "text": [
      "INFO  [alembic.runtime.migration] Context impl SQLiteImpl.\n",
      "INFO  [alembic.runtime.migration] Will assume non-transactional DDL.\n",
      "INFO  [alembic.runtime.migration] Context impl SQLiteImpl.\n",
      "INFO  [alembic.runtime.migration] Will assume non-transactional DDL.\n",
      "INFO  [alembic.runtime.migration] Context impl SQLiteImpl.\n",
      "INFO  [alembic.runtime.migration] Will assume non-transactional DDL.\n",
      "INFO  [alembic.runtime.migration] Context impl SQLiteImpl.\n",
      "INFO  [alembic.runtime.migration] Will assume non-transactional DDL.\n",
      "INFO  [alembic.runtime.migration] Context impl SQLiteImpl.\n",
      "INFO  [alembic.runtime.migration] Will assume non-transactional DDL.\n",
      "INFO  [alembic.runtime.migration] Context impl SQLiteImpl.\n",
      "INFO  [alembic.runtime.migration] Will assume non-transactional DDL.\n",
      "Registered model 'PowerForecastingModel' already exists. Creating a new version of this model...\n",
      "INFO  [alembic.runtime.migration] Context impl SQLiteImpl.\n",
      "INFO  [alembic.runtime.migration] Will assume non-transactional DDL.\n",
      "2021/01/04 13:18:57 INFO mlflow.tracking._model_registry.client: Waiting up to 300 seconds for model version to finish creation.                     Model name: PowerForecastingModel, version 2\n",
      "Created version '2' of model 'PowerForecastingModel'.\n",
      "INFO  [alembic.runtime.migration] Context impl SQLiteImpl.\n",
      "INFO  [alembic.runtime.migration] Will assume non-transactional DDL.\n",
      "INFO  [alembic.runtime.migration] Context impl SQLiteImpl.\n",
      "INFO  [alembic.runtime.migration] Will assume non-transactional DDL.\n",
      "INFO  [alembic.runtime.migration] Context impl SQLiteImpl.\n",
      "INFO  [alembic.runtime.migration] Will assume non-transactional DDL.\n"
     ]
    },
    {
     "name": "stdout",
     "output_type": "stream",
     "text": [
      "MLflow run_id=e7e685bfa2134de79c488a532dd1e230 completed with MSE=44358.62128130996 and RMSE=210.61486481563918\n",
      "Using paramerts={'n_estimators': 300}\n"
     ]
    },
    {
     "name": "stderr",
     "output_type": "stream",
     "text": [
      "INFO  [alembic.runtime.migration] Context impl SQLiteImpl.\n",
      "INFO  [alembic.runtime.migration] Will assume non-transactional DDL.\n",
      "INFO  [alembic.runtime.migration] Context impl SQLiteImpl.\n",
      "INFO  [alembic.runtime.migration] Will assume non-transactional DDL.\n",
      "INFO  [alembic.runtime.migration] Context impl SQLiteImpl.\n",
      "INFO  [alembic.runtime.migration] Will assume non-transactional DDL.\n",
      "INFO  [alembic.runtime.migration] Context impl SQLiteImpl.\n",
      "INFO  [alembic.runtime.migration] Will assume non-transactional DDL.\n",
      "INFO  [alembic.runtime.migration] Context impl SQLiteImpl.\n",
      "INFO  [alembic.runtime.migration] Will assume non-transactional DDL.\n",
      "INFO  [alembic.runtime.migration] Context impl SQLiteImpl.\n",
      "INFO  [alembic.runtime.migration] Will assume non-transactional DDL.\n",
      "Registered model 'PowerForecastingModel' already exists. Creating a new version of this model...\n",
      "INFO  [alembic.runtime.migration] Context impl SQLiteImpl.\n",
      "INFO  [alembic.runtime.migration] Will assume non-transactional DDL.\n",
      "2021/01/04 13:18:59 INFO mlflow.tracking._model_registry.client: Waiting up to 300 seconds for model version to finish creation.                     Model name: PowerForecastingModel, version 3\n",
      "Created version '3' of model 'PowerForecastingModel'.\n",
      "INFO  [alembic.runtime.migration] Context impl SQLiteImpl.\n",
      "INFO  [alembic.runtime.migration] Will assume non-transactional DDL.\n"
     ]
    },
    {
     "name": "stdout",
     "output_type": "stream",
     "text": [
      "MLflow run_id=ed08b53feb0d4f549163c20d6f5b356c completed with MSE=44857.61077432247 and RMSE=211.79615382325164\n"
     ]
    }
   ],
   "source": [
    "# Train, fit and optionally register our model and iterate over few different tuning parameters\n",
    "# Use sqlite:///mlruns.db as the local store for tracking and model registery\n",
    "\n",
    "mlflow.set_tracking_uri(\"sqlite:///mlruns.db\")\n",
    "\n",
    "model_name = \"PowerForecastingModel\"\n",
    "for params in params_list:\n",
    "  rfr = RFRModel.new_instance(params)\n",
    "  print(\"Using paramerts={}\".format(params))\n",
    "  runID = rfr.mlflow_run(X_train, y_train, val_x, val_y, model_name, register=True)\n",
    "  print(\"MLflow run_id={} completed with MSE={} and RMSE={}\".format(runID, rfr.mse, rfr.rsme))"
   ]
  },
  {
   "cell_type": "markdown",
   "metadata": {},
   "source": [
    "## Let's Examine the MLflow UI\n",
    "\n",
    "1. From your local host where your started jupyter lab start the mlflow ui\n",
    "2. **mlflow ui --backend-store-uri sqlite:///mlruns.db**\n",
    "3. Go to http://127.0.0.1:5000 in your browser\n",
    "2. Let's examine some models and start comparing their metrics"
   ]
  },
  {
   "cell_type": "markdown",
   "metadata": {},
   "source": [
    "# Integrating Model Registry with CI/CD Forecasting Application\n",
    "\n",
    "<table>\n",
    "  <tr><td>\n",
    "    <img src=\"https://github.com/dmatrix/mlflow-workshop-part-3/raw/master/images/forecast_app.png\"\n",
    "         alt=\"Keras NN Model as Logistic regression\"  width=\"800\">\n",
    "  </td></tr>\n",
    "</table>\n",
    "\n",
    "1. Use the model registry fetch different versions of the model\n",
    "2. Score the model\n",
    "3. Select the best scored model\n",
    "4. Promote model to production, after testing"
   ]
  },
  {
   "cell_type": "markdown",
   "metadata": {},
   "source": [
    "# Define a helper function to load PyFunc model from the registry\n",
    "<table>\n",
    "  <tr><td> Save a Keras Model Flavor and load as PyFunc Flavor</td></tr>\n",
    "  <tr><td>\n",
    "    <img src=\"https://raw.githubusercontent.com/dmatrix/mlflow-workshop-part-2/master/images/models_2.png\"\n",
    "         alt=\"\" width=\"600\">\n",
    "  </td></tr>\n",
    "</table>"
   ]
  },
  {
   "cell_type": "code",
   "execution_count": 8,
   "metadata": {},
   "outputs": [],
   "source": [
    "def score_model(data, model_uri):\n",
    "    model = mlflow.pyfunc.load_model(model_uri)\n",
    "    return model.predict(data)"
   ]
  },
  {
   "cell_type": "markdown",
   "metadata": {},
   "source": [
    "## Load scoring data"
   ]
  },
  {
   "cell_type": "code",
   "execution_count": 9,
   "metadata": {},
   "outputs": [
    {
     "data": {
      "text/html": [
       "<div>\n",
       "<style scoped>\n",
       "    .dataframe tbody tr th:only-of-type {\n",
       "        vertical-align: middle;\n",
       "    }\n",
       "\n",
       "    .dataframe tbody tr th {\n",
       "        vertical-align: top;\n",
       "    }\n",
       "\n",
       "    .dataframe thead th {\n",
       "        text-align: right;\n",
       "    }\n",
       "</style>\n",
       "<table border=\"1\" class=\"dataframe\">\n",
       "  <thead>\n",
       "    <tr style=\"text-align: right;\">\n",
       "      <th></th>\n",
       "      <th>temperature_00</th>\n",
       "      <th>wind_direction_00</th>\n",
       "      <th>wind_speed_00</th>\n",
       "      <th>temperature_08</th>\n",
       "      <th>wind_direction_08</th>\n",
       "      <th>wind_speed_08</th>\n",
       "      <th>temperature_16</th>\n",
       "      <th>wind_direction_16</th>\n",
       "      <th>wind_speed_16</th>\n",
       "      <th>power</th>\n",
       "    </tr>\n",
       "  </thead>\n",
       "  <tbody>\n",
       "    <tr>\n",
       "      <th>2020-12-27</th>\n",
       "      <td>7.123225</td>\n",
       "      <td>103.176630</td>\n",
       "      <td>8.133746</td>\n",
       "      <td>6.454002</td>\n",
       "      <td>107.793220</td>\n",
       "      <td>6.326991</td>\n",
       "      <td>7.219884</td>\n",
       "      <td>119.070526</td>\n",
       "      <td>3.062219</td>\n",
       "      <td>2621.4760</td>\n",
       "    </tr>\n",
       "    <tr>\n",
       "      <th>2020-12-28</th>\n",
       "      <td>5.376270</td>\n",
       "      <td>118.084330</td>\n",
       "      <td>5.558247</td>\n",
       "      <td>8.118839</td>\n",
       "      <td>116.193535</td>\n",
       "      <td>8.565966</td>\n",
       "      <td>9.307176</td>\n",
       "      <td>120.264430</td>\n",
       "      <td>11.993913</td>\n",
       "      <td>5423.6250</td>\n",
       "    </tr>\n",
       "    <tr>\n",
       "      <th>2020-12-29</th>\n",
       "      <td>8.593436</td>\n",
       "      <td>115.432590</td>\n",
       "      <td>12.181850</td>\n",
       "      <td>8.587968</td>\n",
       "      <td>112.931360</td>\n",
       "      <td>11.970859</td>\n",
       "      <td>8.956771</td>\n",
       "      <td>110.161095</td>\n",
       "      <td>11.301485</td>\n",
       "      <td>9132.1150</td>\n",
       "    </tr>\n",
       "    <tr>\n",
       "      <th>2020-12-30</th>\n",
       "      <td>8.069033</td>\n",
       "      <td>103.169685</td>\n",
       "      <td>9.983466</td>\n",
       "      <td>7.930485</td>\n",
       "      <td>106.045510</td>\n",
       "      <td>6.381556</td>\n",
       "      <td>8.228901</td>\n",
       "      <td>111.602160</td>\n",
       "      <td>4.087358</td>\n",
       "      <td>3667.9927</td>\n",
       "    </tr>\n",
       "  </tbody>\n",
       "</table>\n",
       "</div>"
      ],
      "text/plain": [
       "            temperature_00  wind_direction_00  wind_speed_00  temperature_08  \\\n",
       "2020-12-27        7.123225         103.176630       8.133746        6.454002   \n",
       "2020-12-28        5.376270         118.084330       5.558247        8.118839   \n",
       "2020-12-29        8.593436         115.432590      12.181850        8.587968   \n",
       "2020-12-30        8.069033         103.169685       9.983466        7.930485   \n",
       "\n",
       "            wind_direction_08  wind_speed_08  temperature_16  \\\n",
       "2020-12-27         107.793220       6.326991        7.219884   \n",
       "2020-12-28         116.193535       8.565966        9.307176   \n",
       "2020-12-29         112.931360      11.970859        8.956771   \n",
       "2020-12-30         106.045510       6.381556        8.228901   \n",
       "\n",
       "            wind_direction_16  wind_speed_16      power  \n",
       "2020-12-27         119.070526       3.062219  2621.4760  \n",
       "2020-12-28         120.264430      11.993913  5423.6250  \n",
       "2020-12-29         110.161095      11.301485  9132.1150  \n",
       "2020-12-30         111.602160       4.087358  3667.9927  "
      ]
     },
     "execution_count": 9,
     "metadata": {},
     "output_type": "execute_result"
    }
   ],
   "source": [
    "# Load the score data\n",
    "score_path = \"./data/score_windfarm_data.csv\"\n",
    "score_df = Utils.load_data(score_path, index_col=0)\n",
    "score_df.head()"
   ]
  },
  {
   "cell_type": "code",
   "execution_count": 11,
   "metadata": {},
   "outputs": [],
   "source": [
    "# Drop the power column since we are predicting that value\n",
    "actual_power = pd.DataFrame(score_df.power.values, columns=['power'])\n",
    "score = score_df.drop(\"power\", axis=1)"
   ]
  },
  {
   "cell_type": "markdown",
   "metadata": {},
   "source": [
    "## Score the version 1 of the model "
   ]
  },
  {
   "cell_type": "code",
   "execution_count": 12,
   "metadata": {},
   "outputs": [
    {
     "name": "stderr",
     "output_type": "stream",
     "text": [
      "INFO  [alembic.runtime.migration] Context impl SQLiteImpl.\n",
      "INFO  [alembic.runtime.migration] Will assume non-transactional DDL.\n"
     ]
    },
    {
     "data": {
      "text/html": [
       "<div>\n",
       "<style scoped>\n",
       "    .dataframe tbody tr th:only-of-type {\n",
       "        vertical-align: middle;\n",
       "    }\n",
       "\n",
       "    .dataframe tbody tr th {\n",
       "        vertical-align: top;\n",
       "    }\n",
       "\n",
       "    .dataframe thead th {\n",
       "        text-align: right;\n",
       "    }\n",
       "</style>\n",
       "<table border=\"1\" class=\"dataframe\">\n",
       "  <thead>\n",
       "    <tr style=\"text-align: right;\">\n",
       "      <th></th>\n",
       "      <th>predicted_1</th>\n",
       "    </tr>\n",
       "  </thead>\n",
       "  <tbody>\n",
       "    <tr>\n",
       "      <th>0</th>\n",
       "      <td>2781.184538</td>\n",
       "    </tr>\n",
       "    <tr>\n",
       "      <th>1</th>\n",
       "      <td>5056.045340</td>\n",
       "    </tr>\n",
       "    <tr>\n",
       "      <th>2</th>\n",
       "      <td>8755.087528</td>\n",
       "    </tr>\n",
       "    <tr>\n",
       "      <th>3</th>\n",
       "      <td>3778.888708</td>\n",
       "    </tr>\n",
       "  </tbody>\n",
       "</table>\n",
       "</div>"
      ],
      "text/plain": [
       "   predicted_1\n",
       "0  2781.184538\n",
       "1  5056.045340\n",
       "2  8755.087528\n",
       "3  3778.888708"
      ]
     },
     "execution_count": 12,
     "metadata": {},
     "output_type": "execute_result"
    }
   ],
   "source": [
    "# Formulate the model URI to fetch from the model registery\n",
    "model_uri = \"models:/{}/{}\".format(model_name, 1)\n",
    "\n",
    "# Predict the Power output \n",
    "pred_1 = pd.DataFrame(score_model(score, model_uri), columns=[\"predicted_1\"])\n",
    "pred_1"
   ]
  },
  {
   "cell_type": "markdown",
   "metadata": {},
   "source": [
    "#### Combine with the actual power"
   ]
  },
  {
   "cell_type": "code",
   "execution_count": 13,
   "metadata": {},
   "outputs": [
    {
     "data": {
      "text/html": [
       "<div>\n",
       "<style scoped>\n",
       "    .dataframe tbody tr th:only-of-type {\n",
       "        vertical-align: middle;\n",
       "    }\n",
       "\n",
       "    .dataframe tbody tr th {\n",
       "        vertical-align: top;\n",
       "    }\n",
       "\n",
       "    .dataframe thead th {\n",
       "        text-align: right;\n",
       "    }\n",
       "</style>\n",
       "<table border=\"1\" class=\"dataframe\">\n",
       "  <thead>\n",
       "    <tr style=\"text-align: right;\">\n",
       "      <th></th>\n",
       "      <th>power</th>\n",
       "      <th>predicted_1</th>\n",
       "    </tr>\n",
       "  </thead>\n",
       "  <tbody>\n",
       "    <tr>\n",
       "      <th>0</th>\n",
       "      <td>2621.4760</td>\n",
       "      <td>2781.184538</td>\n",
       "    </tr>\n",
       "    <tr>\n",
       "      <th>1</th>\n",
       "      <td>5423.6250</td>\n",
       "      <td>5056.045340</td>\n",
       "    </tr>\n",
       "    <tr>\n",
       "      <th>2</th>\n",
       "      <td>9132.1150</td>\n",
       "      <td>8755.087528</td>\n",
       "    </tr>\n",
       "    <tr>\n",
       "      <th>3</th>\n",
       "      <td>3667.9927</td>\n",
       "      <td>3778.888708</td>\n",
       "    </tr>\n",
       "  </tbody>\n",
       "</table>\n",
       "</div>"
      ],
      "text/plain": [
       "       power  predicted_1\n",
       "0  2621.4760  2781.184538\n",
       "1  5423.6250  5056.045340\n",
       "2  9132.1150  8755.087528\n",
       "3  3667.9927  3778.888708"
      ]
     },
     "execution_count": 13,
     "metadata": {},
     "output_type": "execute_result"
    }
   ],
   "source": [
    "actual_power[\"predicted_1\"] = pred_1[\"predicted_1\"]\n",
    "actual_power"
   ]
  },
  {
   "cell_type": "markdown",
   "metadata": {},
   "source": [
    "## Score the version 2 of the model "
   ]
  },
  {
   "cell_type": "code",
   "execution_count": 14,
   "metadata": {},
   "outputs": [
    {
     "name": "stderr",
     "output_type": "stream",
     "text": [
      "INFO  [alembic.runtime.migration] Context impl SQLiteImpl.\n",
      "INFO  [alembic.runtime.migration] Will assume non-transactional DDL.\n"
     ]
    },
    {
     "data": {
      "text/html": [
       "<div>\n",
       "<style scoped>\n",
       "    .dataframe tbody tr th:only-of-type {\n",
       "        vertical-align: middle;\n",
       "    }\n",
       "\n",
       "    .dataframe tbody tr th {\n",
       "        vertical-align: top;\n",
       "    }\n",
       "\n",
       "    .dataframe thead th {\n",
       "        text-align: right;\n",
       "    }\n",
       "</style>\n",
       "<table border=\"1\" class=\"dataframe\">\n",
       "  <thead>\n",
       "    <tr style=\"text-align: right;\">\n",
       "      <th></th>\n",
       "      <th>predicted_2</th>\n",
       "    </tr>\n",
       "  </thead>\n",
       "  <tbody>\n",
       "    <tr>\n",
       "      <th>0</th>\n",
       "      <td>2779.977997</td>\n",
       "    </tr>\n",
       "    <tr>\n",
       "      <th>1</th>\n",
       "      <td>5102.581746</td>\n",
       "    </tr>\n",
       "    <tr>\n",
       "      <th>2</th>\n",
       "      <td>8744.340931</td>\n",
       "    </tr>\n",
       "    <tr>\n",
       "      <th>3</th>\n",
       "      <td>3780.009774</td>\n",
       "    </tr>\n",
       "  </tbody>\n",
       "</table>\n",
       "</div>"
      ],
      "text/plain": [
       "   predicted_2\n",
       "0  2779.977997\n",
       "1  5102.581746\n",
       "2  8744.340931\n",
       "3  3780.009774"
      ]
     },
     "execution_count": 14,
     "metadata": {},
     "output_type": "execute_result"
    }
   ],
   "source": [
    "# Formulate the model URI to fetch from the model registery\n",
    "model_uri = \"models:/{}/{}\".format(model_name, 2)\n",
    "\n",
    "# Predict the Power output\n",
    "pred_2 = pd.DataFrame(score_model(score, model_uri), columns=[\"predicted_2\"])\n",
    "pred_2"
   ]
  },
  {
   "cell_type": "markdown",
   "metadata": {},
   "source": [
    "#### Combine with the actual power"
   ]
  },
  {
   "cell_type": "code",
   "execution_count": 15,
   "metadata": {},
   "outputs": [
    {
     "data": {
      "text/html": [
       "<div>\n",
       "<style scoped>\n",
       "    .dataframe tbody tr th:only-of-type {\n",
       "        vertical-align: middle;\n",
       "    }\n",
       "\n",
       "    .dataframe tbody tr th {\n",
       "        vertical-align: top;\n",
       "    }\n",
       "\n",
       "    .dataframe thead th {\n",
       "        text-align: right;\n",
       "    }\n",
       "</style>\n",
       "<table border=\"1\" class=\"dataframe\">\n",
       "  <thead>\n",
       "    <tr style=\"text-align: right;\">\n",
       "      <th></th>\n",
       "      <th>power</th>\n",
       "      <th>predicted_1</th>\n",
       "      <th>predicted_2</th>\n",
       "    </tr>\n",
       "  </thead>\n",
       "  <tbody>\n",
       "    <tr>\n",
       "      <th>0</th>\n",
       "      <td>2621.4760</td>\n",
       "      <td>2781.184538</td>\n",
       "      <td>2779.977997</td>\n",
       "    </tr>\n",
       "    <tr>\n",
       "      <th>1</th>\n",
       "      <td>5423.6250</td>\n",
       "      <td>5056.045340</td>\n",
       "      <td>5102.581746</td>\n",
       "    </tr>\n",
       "    <tr>\n",
       "      <th>2</th>\n",
       "      <td>9132.1150</td>\n",
       "      <td>8755.087528</td>\n",
       "      <td>8744.340931</td>\n",
       "    </tr>\n",
       "    <tr>\n",
       "      <th>3</th>\n",
       "      <td>3667.9927</td>\n",
       "      <td>3778.888708</td>\n",
       "      <td>3780.009774</td>\n",
       "    </tr>\n",
       "  </tbody>\n",
       "</table>\n",
       "</div>"
      ],
      "text/plain": [
       "       power  predicted_1  predicted_2\n",
       "0  2621.4760  2781.184538  2779.977997\n",
       "1  5423.6250  5056.045340  5102.581746\n",
       "2  9132.1150  8755.087528  8744.340931\n",
       "3  3667.9927  3778.888708  3780.009774"
      ]
     },
     "execution_count": 15,
     "metadata": {},
     "output_type": "execute_result"
    }
   ],
   "source": [
    "actual_power[\"predicted_2\"] = pred_2[\"predicted_2\"]\n",
    "actual_power"
   ]
  },
  {
   "cell_type": "markdown",
   "metadata": {},
   "source": [
    "## Score the version 3 of the model "
   ]
  },
  {
   "cell_type": "code",
   "execution_count": 16,
   "metadata": {},
   "outputs": [
    {
     "name": "stderr",
     "output_type": "stream",
     "text": [
      "INFO  [alembic.runtime.migration] Context impl SQLiteImpl.\n",
      "INFO  [alembic.runtime.migration] Will assume non-transactional DDL.\n"
     ]
    },
    {
     "data": {
      "text/html": [
       "<div>\n",
       "<style scoped>\n",
       "    .dataframe tbody tr th:only-of-type {\n",
       "        vertical-align: middle;\n",
       "    }\n",
       "\n",
       "    .dataframe tbody tr th {\n",
       "        vertical-align: top;\n",
       "    }\n",
       "\n",
       "    .dataframe thead th {\n",
       "        text-align: right;\n",
       "    }\n",
       "</style>\n",
       "<table border=\"1\" class=\"dataframe\">\n",
       "  <thead>\n",
       "    <tr style=\"text-align: right;\">\n",
       "      <th></th>\n",
       "      <th>predicted_3</th>\n",
       "    </tr>\n",
       "  </thead>\n",
       "  <tbody>\n",
       "    <tr>\n",
       "      <th>0</th>\n",
       "      <td>2794.101905</td>\n",
       "    </tr>\n",
       "    <tr>\n",
       "      <th>1</th>\n",
       "      <td>5113.721447</td>\n",
       "    </tr>\n",
       "    <tr>\n",
       "      <th>2</th>\n",
       "      <td>8712.597634</td>\n",
       "    </tr>\n",
       "    <tr>\n",
       "      <th>3</th>\n",
       "      <td>3751.991576</td>\n",
       "    </tr>\n",
       "  </tbody>\n",
       "</table>\n",
       "</div>"
      ],
      "text/plain": [
       "   predicted_3\n",
       "0  2794.101905\n",
       "1  5113.721447\n",
       "2  8712.597634\n",
       "3  3751.991576"
      ]
     },
     "execution_count": 16,
     "metadata": {},
     "output_type": "execute_result"
    }
   ],
   "source": [
    "# Formulate the model URI to fetch from the model registery\n",
    "model_uri = \"models:/{}/{}\".format(model_name, 3)\n",
    "\n",
    "# Formulate the model URI to fetch from the model registery\n",
    "pred_3 = pd.DataFrame(score_model(score, model_uri), columns=[\"predicted_3\"])\n",
    "pred_3"
   ]
  },
  {
   "cell_type": "markdown",
   "metadata": {},
   "source": [
    "#### Combine the values into a single pandas DataFrame "
   ]
  },
  {
   "cell_type": "code",
   "execution_count": 17,
   "metadata": {},
   "outputs": [
    {
     "data": {
      "text/html": [
       "<div>\n",
       "<style scoped>\n",
       "    .dataframe tbody tr th:only-of-type {\n",
       "        vertical-align: middle;\n",
       "    }\n",
       "\n",
       "    .dataframe tbody tr th {\n",
       "        vertical-align: top;\n",
       "    }\n",
       "\n",
       "    .dataframe thead th {\n",
       "        text-align: right;\n",
       "    }\n",
       "</style>\n",
       "<table border=\"1\" class=\"dataframe\">\n",
       "  <thead>\n",
       "    <tr style=\"text-align: right;\">\n",
       "      <th></th>\n",
       "      <th>power</th>\n",
       "      <th>predicted_1</th>\n",
       "      <th>predicted_2</th>\n",
       "      <th>predicted_3</th>\n",
       "    </tr>\n",
       "  </thead>\n",
       "  <tbody>\n",
       "    <tr>\n",
       "      <th>0</th>\n",
       "      <td>2621.4760</td>\n",
       "      <td>2781.184538</td>\n",
       "      <td>2779.977997</td>\n",
       "      <td>2794.101905</td>\n",
       "    </tr>\n",
       "    <tr>\n",
       "      <th>1</th>\n",
       "      <td>5423.6250</td>\n",
       "      <td>5056.045340</td>\n",
       "      <td>5102.581746</td>\n",
       "      <td>5113.721447</td>\n",
       "    </tr>\n",
       "    <tr>\n",
       "      <th>2</th>\n",
       "      <td>9132.1150</td>\n",
       "      <td>8755.087528</td>\n",
       "      <td>8744.340931</td>\n",
       "      <td>8712.597634</td>\n",
       "    </tr>\n",
       "    <tr>\n",
       "      <th>3</th>\n",
       "      <td>3667.9927</td>\n",
       "      <td>3778.888708</td>\n",
       "      <td>3780.009774</td>\n",
       "      <td>3751.991576</td>\n",
       "    </tr>\n",
       "  </tbody>\n",
       "</table>\n",
       "</div>"
      ],
      "text/plain": [
       "       power  predicted_1  predicted_2  predicted_3\n",
       "0  2621.4760  2781.184538  2779.977997  2794.101905\n",
       "1  5423.6250  5056.045340  5102.581746  5113.721447\n",
       "2  9132.1150  8755.087528  8744.340931  8712.597634\n",
       "3  3667.9927  3778.888708  3780.009774  3751.991576"
      ]
     },
     "execution_count": 17,
     "metadata": {},
     "output_type": "execute_result"
    }
   ],
   "source": [
    "actual_power[\"predicted_3\"] = pred_3[\"predicted_3\"]\n",
    "actual_power"
   ]
  },
  {
   "cell_type": "markdown",
   "metadata": {},
   "source": [
    "## Plot the combined predicited results vs the actual power"
   ]
  },
  {
   "cell_type": "code",
   "execution_count": 18,
   "metadata": {},
   "outputs": [
    {
     "data": {
      "text/plain": [
       "<AxesSubplot:>"
      ]
     },
     "execution_count": 18,
     "metadata": {},
     "output_type": "execute_result"
    },
    {
     "data": {
      "image/png": "[encoded data removed]",
      "text/plain": [
       "<Figure size 432x288 with 1 Axes>"
      ]
     },
     "metadata": {
      "needs_background": "light"
     },
     "output_type": "display_data"
    }
   ],
   "source": [
    "%matplotlib inline\n",
    "\n",
    "actual_power.plot.line()"
   ]
  },
  {
   "cell_type": "markdown",
   "metadata": {},
   "source": [
    "## Excercise in class\n",
    "\n",
    "1. Go to http://127.0.0.1:5000 in your browser\n",
    "2. Navigate to the Model Registry Page\n",
    "3. Pick a version and transition stage: None->Production\n",
    "4. Add Description for the transition\n",
    "5. Add Tag if you wish\n",
    "6. Create a model URI based on the 'Production\" label\n",
    "7. Use the `score_model(...)`\n"
   ]
  },
  {
   "cell_type": "markdown",
   "metadata": {},
   "source": [
    "## Homework - Challenge 1\n",
    "\n",
    "1. Can you improve the model with different hyperparameters to get better RSME\n",
    "2. Register the model and score it"
   ]
  },
  {
   "cell_type": "markdown",
   "metadata": {},
   "source": [
    "## Homework - Challenge 2\n",
    "1. Take any of the models from tracking module [1-3]\n",
    "2. Change code to register them during training\n",
    "3. Load either model verions or \"Stage\" models as PyFunc models\n",
    "4. Score the models"
   ]
  }
 ],
 "metadata": {
  "kernelspec": {
   "display_name": "Python 3",
   "language": "python",
   "name": "python3"
  },
  "language_info": {
   "codemirror_mode": {
    "name": "ipython",
    "version": 3
   },
   "file_extension": ".py",
   "mimetype": "text/x-python",
   "name": "python",
   "nbconvert_exporter": "python",
   "pygments_lexer": "ipython3",
   "version": "3.9.1"
  }
 },
 "nbformat": 4,
 "nbformat_minor": 4
}
